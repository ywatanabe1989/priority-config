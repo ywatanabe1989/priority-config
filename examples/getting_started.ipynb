{
 "cells": [
  {
   "cell_type": "markdown",
   "metadata": {},
   "source": [
    "# Getting Started with pip-project-template\n",
    "\n",
    "Welcome to the **pip-project-template FastMCP Edition**! This guide will walk you through:\n",
    "\n",
    "1. 🧮 Basic calculator functionality\n",
    "2. 💻 CLI command usage\n",
    "3. 📦 Data containers and types\n",
    "4. 🚀 MCP server concepts\n",
    "\n",
    "## Prerequisites\n",
    "\n",
    "Make sure you have installed the package:\n",
    "```bash\n",
    "pip install -e .\n",
    "```"
   ]
  },
  {
   "cell_type": "markdown",
   "metadata": {},
   "source": [
    "## 1. Basic Calculator Usage\n",
    "\n",
    "Let's start with the core functionality - the calculator classes and utility functions:"
   ]
  },
  {
   "cell_type": "code",
   "execution_count": null,
   "metadata": {},
   "outputs": [],
   "source": [
    "# Import the calculator components\n",
    "import sys\n",
    "from pathlib import Path\n",
    "\n",
    "# Add the source to path for development\n",
    "project_root = Path().cwd()\n",
    "sys.path.insert(0, str(project_root / \"src\"))\n",
    "\n",
    "from pip_project_template.core._Calculator import Calculator\n",
    "from pip_project_template.utils._add import add\n",
    "from pip_project_template.utils._multiply import multiply\n",
    "\n",
    "print(\"📦 Successfully imported calculator components!\")"
   ]
  },
  {
   "cell_type": "code",
   "execution_count": null,
   "metadata": {},
   "outputs": [],
   "source": [
    "# Using the Calculator class\n",
    "calc = Calculator()\n",
    "\n",
    "result1 = calc.add(5, 3)\n",
    "result2 = calc.multiply(4, 7)\n",
    "\n",
    "print(f\"🧮 Calculator.add(5, 3) = {result1}\")\n",
    "print(f\"🧮 Calculator.multiply(4, 7) = {result2}\")"
   ]
  },
  {
   "cell_type": "code",
   "execution_count": null,
   "metadata": {},
   "outputs": [],
   "source": [
    "# Using utility functions directly\n",
    "result3 = add(10, 15)\n",
    "result4 = multiply(6, 9)\n",
    "\n",
    "print(f\"➕ add(10, 15) = {result3}\")\n",
    "print(f\"✖️ multiply(6, 9) = {result4}\")"
   ]
  },
  {
   "cell_type": "markdown",
   "metadata": {},
   "source": [
    "## 2. CLI Commands\n",
    "\n",
    "The package provides several CLI commands. Let's explore them:"
   ]
  },
  {
   "cell_type": "code",
   "execution_count": null,
   "metadata": {},
   "outputs": [],
   "source": [
    "# Show system information\n",
    "from pip_project_template.cli.info import main as info_main\n",
    "\n",
    "print(\"💻 Running info command:\")\n",
    "info_main()"
   ]
  },
  {
   "cell_type": "code",
   "execution_count": null,
   "metadata": {},
   "outputs": [],
   "source": [
    "# Run calculations via CLI\n",
    "from pip_project_template.cli.calculate import main as calc_main\n",
    "\n",
    "print(\"🔢 CLI calculations:\")\n",
    "\n",
    "# Simulate CLI arguments for addition\n",
    "import sys\n",
    "old_argv = sys.argv.copy()\n",
    "\n",
    "# Test addition\n",
    "sys.argv = [\"calculate\", \"15\", \"25\", \"--operation\", \"add\"]\n",
    "calc_main()\n",
    "\n",
    "# Test multiplication\n",
    "sys.argv = [\"calculate\", \"8\", \"7\", \"--operation\", \"multiply\"]\n",
    "calc_main()\n",
    "\n",
    "# Restore original argv\n",
    "sys.argv = old_argv"
   ]
  },
  {
   "cell_type": "markdown",
   "metadata": {},
   "source": [
    "### Available CLI Commands\n",
    "\n",
    "You can run these commands from your terminal:\n",
    "\n",
    "```bash\n",
    "# Get system information\n",
    "python -m pip_project_template.cli.info\n",
    "\n",
    "# Perform calculations\n",
    "python -m pip_project_template.cli.calculate 10 5 --operation add\n",
    "python -m pip_project_template.cli.calculate 8 3 --operation multiply\n",
    "\n",
    "# Start MCP servers\n",
    "python -m pip_project_template.cli.serve01 --host localhost --port 8081\n",
    "python -m pip_project_template.cli.serve02 --transport stdio\n",
    "```"
   ]
  },
  {
   "cell_type": "markdown",
   "metadata": {},
   "source": [
    "## 3. Data Containers\n",
    "\n",
    "The package provides data container types for organizing information:"
   ]
  },
  {
   "cell_type": "code",
   "execution_count": null,
   "metadata": {},
   "outputs": [],
   "source": [
    "from pip_project_template.types._DataContainer import DataContainer\n",
    "\n",
    "# Create a data container\n",
    "container = DataContainer()\n",
    "\n",
    "# Add various types of data\n",
    "container.add_data(\"user_id\", 12345)\n",
    "container.add_data(\"username\", \"alice\")\n",
    "container.add_data(\"calculation_result\", 42.5)\n",
    "container.add_data(\"active\", True)\n",
    "\n",
    "print(f\"📦 Container has {len(container.data)} items:\")\n",
    "for key, value in container.data.items():\n",
    "    print(f\"   {key}: {value} ({type(value).__name__})\")"
   ]
  },
  {
   "cell_type": "code",
   "execution_count": null,
   "metadata": {},
   "outputs": [],
   "source": [
    "# Access specific data\n",
    "user_id = container.get_data(\"user_id\")\n",
    "username = container.get_data(\"username\")\n",
    "result = container.get_data(\"calculation_result\")\n",
    "\n",
    "print(f\"🔍 Retrieved data:\")\n",
    "print(f\"   User ID: {user_id}\")\n",
    "print(f\"   Username: {username}\")\n",
    "print(f\"   Last result: {result}\")\n",
    "\n",
    "# Try to get non-existent data\n",
    "missing = container.get_data(\"nonexistent\")\n",
    "print(f\"   Missing key: {missing}\")"
   ]
  },
  {
   "cell_type": "markdown",
   "metadata": {},
   "source": [
    "## 4. MCP Server Integration\n",
    "\n",
    "This package provides two MCP (Model Context Protocol) servers for integration with AI tools:\n",
    "\n",
    "### Server Overview\n",
    "\n",
    "**McpServer01 - Basic Calculator Server:**\n",
    "- Provides `add_numbers` and `multiply_numbers` tools\n",
    "- Start with: `python -m pip_project_template.cli.serve01`\n",
    "- Default port: 8081\n",
    "\n",
    "**McpServer02 - Enhanced Calculator Server:**\n",
    "- Extended calculator functionality\n",
    "- Start with: `python -m pip_project_template.cli.serve02` \n",
    "- Default port: 8082\n",
    "\n",
    "### Transport Options\n",
    "\n",
    "Both servers support multiple transport modes:\n",
    "- **stdio**: Direct stdin/stdout communication\n",
    "- **sse**: Server-Sent Events over HTTP"
   ]
  },
  {
   "cell_type": "code",
   "execution_count": null,
   "metadata": {},
   "outputs": [],
   "source": [
    "# Let's examine the MCP configuration\n",
    "import json\n",
    "from pathlib import Path\n",
    "\n",
    "config_file = Path(\"config/mcp_config.json\")\n",
    "if config_file.exists():\n",
    "    with open(config_file) as f:\n",
    "        config = json.load(f)\n",
    "    \n",
    "    print(\"🔧 MCP Configuration:\")\n",
    "    servers = config.get(\"mcpServers\", {})\n",
    "    \n",
    "    for server_name, server_config in servers.items():\n",
    "        print(f\"\\n📡 {server_name}:\")\n",
    "        \n",
    "        if \"command\" in server_config:\n",
    "            print(f\"   Type: Command-based\")\n",
    "            print(f\"   Command: {server_config['command']}\")\n",
    "        elif \"url\" in server_config:\n",
    "            print(f\"   Type: HTTP-based\")\n",
    "            print(f\"   URL: {server_config['url']}\")\n",
    "        \n",
    "        if \"env\" in server_config:\n",
    "            print(f\"   Environment: {list(server_config['env'].keys())}\")\n",
    "else:\n",
    "    print(\"❌ MCP config file not found. Make sure you're in the project directory.\")"
   ]
  },
  {
   "cell_type": "markdown",
   "metadata": {},
   "source": [
    "### Testing Server Components\n",
    "\n",
    "Let's test the server components without actually starting the full servers:"
   ]
  },
  {
   "cell_type": "code",
   "execution_count": null,
   "metadata": {},
   "outputs": [],
   "source": [
    "# Import and test server components\n",
    "from pip_project_template.mcp_servers.McpServer01 import McpServer01\n",
    "\n",
    "print(\"🚀 McpServer01 Information:\")\n",
    "print(f\"   Class: {McpServer01.__name__}\")\n",
    "print(f\"   Module: {McpServer01.__module__}\")\n",
    "\n",
    "# Check what tools are available\n",
    "server = McpServer01()\n",
    "print(f\"   Server instance created: {type(server)}\")"
   ]
  },
  {
   "cell_type": "markdown",
   "metadata": {},
   "source": [
    "## 🎉 Congratulations!\n",
    "\n",
    "You've successfully explored the key features of pip-project-template FastMCP Edition:\n",
    "\n",
    "✅ **Calculator functionality** - Both class-based and utility functions  \n",
    "✅ **CLI commands** - Info, calculate, and server management  \n",
    "✅ **Data containers** - Flexible data storage and retrieval  \n",
    "✅ **MCP integration** - Server setup and configuration  \n",
    "\n",
    "## Next Steps\n",
    "\n",
    "- 📚 **cli_workflows.ipynb** - Learn advanced CLI usage patterns\n",
    "- 🔗 **mcp_integration.ipynb** - Multi-server coordination examples\n",
    "- 🛠️ **extending/** - Customize and extend the functionality\n",
    "\n",
    "## Quick Reference\n",
    "\n",
    "```bash\n",
    "# Install in development mode\n",
    "pip install -e .\n",
    "\n",
    "# Run tests\n",
    "pytest\n",
    "\n",
    "# Start MCP servers\n",
    "python -m pip_project_template.cli.serve01 --port 8081\n",
    "python -m pip_project_template.cli.serve02 --transport stdio\n",
    "```"
   ]
  }
 ],
 "metadata": {
  "kernelspec": {
   "display_name": "Python 3 (ipykernel)",
   "language": "python",
   "name": "python3"
  },
  "language_info": {
   "codemirror_mode": {
    "name": "ipython",
    "version": 3
   },
   "file_extension": ".py",
   "mimetype": "text/x-python",
   "name": "python",
   "nbconvert_exporter": "python",
   "pygments_lexer": "ipython3",
   "version": "3.11.0rc1"
  }
 },
 "nbformat": 4,
 "nbformat_minor": 4
}
